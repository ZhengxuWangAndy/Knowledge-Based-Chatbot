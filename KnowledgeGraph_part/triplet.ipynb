{
 "cells": [
  {
   "cell_type": "code",
   "execution_count": 1,
   "metadata": {},
   "outputs": [],
   "source": [
    "# read ner.csv and generate triplet"
   ]
  },
  {
   "cell_type": "code",
   "execution_count": 77,
   "metadata": {},
   "outputs": [],
   "source": [
    "import pandas as pd\n",
    "df = pd.read_csv('./ner.csv')"
   ]
  },
  {
   "cell_type": "code",
   "execution_count": 10,
   "metadata": {},
   "outputs": [
    {
     "data": {
      "text/html": [
       "<div>\n",
       "<style scoped>\n",
       "    .dataframe tbody tr th:only-of-type {\n",
       "        vertical-align: middle;\n",
       "    }\n",
       "\n",
       "    .dataframe tbody tr th {\n",
       "        vertical-align: top;\n",
       "    }\n",
       "\n",
       "    .dataframe thead th {\n",
       "        text-align: right;\n",
       "    }\n",
       "</style>\n",
       "<table border=\"1\" class=\"dataframe\">\n",
       "  <thead>\n",
       "    <tr style=\"text-align: right;\">\n",
       "      <th></th>\n",
       "      <th>entity</th>\n",
       "      <th>label</th>\n",
       "      <th>index</th>\n",
       "    </tr>\n",
       "  </thead>\n",
       "  <tbody>\n",
       "    <tr>\n",
       "      <th>0</th>\n",
       "      <td>I</td>\n",
       "      <td>B-MISC</td>\n",
       "      <td>3</td>\n",
       "    </tr>\n",
       "    <tr>\n",
       "      <th>1</th>\n",
       "      <td>F</td>\n",
       "      <td>B-MISC</td>\n",
       "      <td>3</td>\n",
       "    </tr>\n",
       "    <tr>\n",
       "      <th>2</th>\n",
       "      <td>I</td>\n",
       "      <td>B-MISC</td>\n",
       "      <td>3</td>\n",
       "    </tr>\n",
       "    <tr>\n",
       "      <th>3</th>\n",
       "      <td>La</td>\n",
       "      <td>B-MISC</td>\n",
       "      <td>10</td>\n",
       "    </tr>\n",
       "    <tr>\n",
       "      <th>4</th>\n",
       "      <td>##os</td>\n",
       "      <td>I-MISC</td>\n",
       "      <td>10</td>\n",
       "    </tr>\n",
       "    <tr>\n",
       "      <th>5</th>\n",
       "      <td>RF</td>\n",
       "      <td>B-ORG</td>\n",
       "      <td>13</td>\n",
       "    </tr>\n",
       "    <tr>\n",
       "      <th>6</th>\n",
       "      <td>##A</td>\n",
       "      <td>I-ORG</td>\n",
       "      <td>13</td>\n",
       "    </tr>\n",
       "    <tr>\n",
       "      <th>7</th>\n",
       "      <td>H</td>\n",
       "      <td>B-ORG</td>\n",
       "      <td>13</td>\n",
       "    </tr>\n",
       "    <tr>\n",
       "      <th>8</th>\n",
       "      <td>&amp;</td>\n",
       "      <td>I-ORG</td>\n",
       "      <td>13</td>\n",
       "    </tr>\n",
       "    <tr>\n",
       "      <th>9</th>\n",
       "      <td>E</td>\n",
       "      <td>I-ORG</td>\n",
       "      <td>13</td>\n",
       "    </tr>\n",
       "  </tbody>\n",
       "</table>\n",
       "</div>"
      ],
      "text/plain": [
       "  entity   label  index\n",
       "0      I  B-MISC      3\n",
       "1      F  B-MISC      3\n",
       "2      I  B-MISC      3\n",
       "3     La  B-MISC     10\n",
       "4   ##os  I-MISC     10\n",
       "5     RF   B-ORG     13\n",
       "6    ##A   I-ORG     13\n",
       "7      H   B-ORG     13\n",
       "8      &   I-ORG     13\n",
       "9      E   I-ORG     13"
      ]
     },
     "execution_count": 10,
     "metadata": {},
     "output_type": "execute_result"
    }
   ],
   "source": [
    "df[:10]"
   ]
  },
  {
   "cell_type": "code",
   "execution_count": 11,
   "metadata": {},
   "outputs": [],
   "source": [
    "# rule 1 B-ORG|I-ORG locate B-LOC|I-LOC\n",
    "# rule 2 B-PER|I-PER work B-ORG|I-ORG\n",
    "# rule 3 B-PER|I-PER live B-LOC|I-LOC"
   ]
  },
  {
   "cell_type": "code",
   "execution_count": 78,
   "metadata": {},
   "outputs": [],
   "source": [
    "dict_entity = {}\n",
    "dict_label = {}\n",
    "for i in range(len(df)):\n",
    "    if df['index'][i] not in dict_entity.keys():\n",
    "        dict_entity[df['index'][i]] = [df['entity'][i]]\n",
    "        dict_label[df['index'][i]] = [df['label'][i]]\n",
    "    else:\n",
    "        dict_entity[df['index'][i]].append(df['entity'][i])\n",
    "        dict_label[df['index'][i]].append(df['label'][i])"
   ]
  },
  {
   "cell_type": "code",
   "execution_count": 36,
   "metadata": {},
   "outputs": [
    {
     "data": {
      "text/plain": [
       "['B-ORG',\n",
       " 'I-ORG',\n",
       " 'B-ORG',\n",
       " 'I-ORG',\n",
       " 'I-ORG',\n",
       " 'B-MISC',\n",
       " 'B-ORG',\n",
       " 'I-ORG',\n",
       " 'B-MISC']"
      ]
     },
     "execution_count": 36,
     "metadata": {},
     "output_type": "execute_result"
    }
   ],
   "source": [
    "dict_label[13]"
   ]
  },
  {
   "cell_type": "code",
   "execution_count": 39,
   "metadata": {},
   "outputs": [],
   "source": [
    "# rule 1\n",
    "rule1Key = []\n",
    "for key in dict_label.keys():\n",
    "    if 'B-ORG' in dict_label[key] and 'B-LOC' in dict_label[key]:\n",
    "        rule1Key.append(key)"
   ]
  },
  {
   "cell_type": "code",
   "execution_count": 43,
   "metadata": {},
   "outputs": [
    {
     "data": {
      "text/plain": [
       "['B-LOC', 'B-LOC', 'I-LOC', 'B-ORG']"
      ]
     },
     "execution_count": 43,
     "metadata": {},
     "output_type": "execute_result"
    }
   ],
   "source": [
    "dict_label[rule1Key[0]]\n",
    "rule1Tuple = []\n"
   ]
  },
  {
   "cell_type": "code",
   "execution_count": 44,
   "metadata": {},
   "outputs": [
    {
     "data": {
      "text/plain": [
       "['Washington', 'Washington', 'State', 'E']"
      ]
     },
     "execution_count": 44,
     "metadata": {},
     "output_type": "execute_result"
    }
   ],
   "source": [
    "dict_entity[rule1Key[0]]"
   ]
  },
  {
   "cell_type": "code",
   "execution_count": 48,
   "metadata": {},
   "outputs": [],
   "source": [
    "rule1Tuple = []\n",
    "for key in rule1Key:\n",
    "    tmpORG = ''\n",
    "    tmpLoc = ''\n",
    "    for i in range(len(dict_label[key])):\n",
    "        if 'ORG' in dict_label[key][i]:\n",
    "            tmpORG += dict_entity[key][i] + ' '\n",
    "        if 'LOC' in dict_label[key][i]:\n",
    "            tmpLoc += dict_entity[key][i] + ' '\n",
    "    rule1Tuple.append((tmpORG, tmpLoc))"
   ]
  },
  {
   "cell_type": "code",
   "execution_count": 50,
   "metadata": {},
   "outputs": [
    {
     "data": {
      "text/plain": [
       "[('E ', 'Washington Washington State '),\n",
       " ('NHS ', 'UK UK '),\n",
       " ('Pro ##M Ha ##ptic ##a Ltd ', 'Ireland '),\n",
       " ('N ##E N ##E ', 'UK '),\n",
       " ('E ##MS ', 'UK '),\n",
       " ('##MS ', 'United States '),\n",
       " ('IS ##AC IS ##AC ', 'Mediterranean Area '),\n",
       " ('HC ##C ', 'Milan '),\n",
       " ('R ##EC Do ', 'China China '),\n",
       " ('GP ', 'Western Australia ')]"
      ]
     },
     "execution_count": 50,
     "metadata": {},
     "output_type": "execute_result"
    }
   ],
   "source": [
    "rule1Tuple[:10]"
   ]
  },
  {
   "cell_type": "code",
   "execution_count": 76,
   "metadata": {},
   "outputs": [],
   "source": [
    "from py2neo import *\n",
    "import re\n",
    "graph = Graph(\"http://localhost:7474\",user=\"neo4j\",password=\"12345678\",name=\"neo4j\")\n",
    "\n",
    "for i in range(len(rule1Tuple)):\n",
    "    graph.run(\"merge (n:Organization { name:'\" + re.sub('(\\W+)', '', rule1Tuple[i][0]) + \"'});\")\n",
    "    graph.run(\"merge (n:Location { name:'\" + re.sub('(\\W+)', '', rule1Tuple[i][1]) + \"'});\")\n",
    "    graph.run(\"MATCH (a:Organization),(b:Location) WHERE a.name = '\" + re.sub('(\\W+)', '', rule1Tuple[i][0]) + \"' AND b.name = '\" + re.sub('(\\W+)', '', rule1Tuple[i][1]) + \"' merge (a)-[r:locate]->(b);\")"
   ]
  },
  {
   "cell_type": "code",
   "execution_count": 79,
   "metadata": {},
   "outputs": [],
   "source": [
    "# rule 2\n",
    "rule2Key = []\n",
    "for key in dict_label.keys():\n",
    "    if 'B-PER' in dict_label[key] and 'B-ORG' in dict_label[key]:\n",
    "        rule2Key.append(key)\n",
    "\n",
    "rule2Tuple = []\n",
    "for key in rule2Key:\n",
    "    tmpORG = ''\n",
    "    tmpLoc = ''\n",
    "    for i in range(len(dict_label[key])):\n",
    "        if 'PER' in dict_label[key][i]:\n",
    "            tmpORG += dict_entity[key][i] + ' '\n",
    "        if 'ORG' in dict_label[key][i]:\n",
    "            tmpLoc += dict_entity[key][i] + ' '\n",
    "    rule2Tuple.append((tmpORG, tmpLoc))\n",
    "\n",
    "\n",
    "for i in range(len(rule2Tuple)):\n",
    "    graph.run(\"merge (n:Person { name:'\" + re.sub('(\\W+)', '', rule2Tuple[i][0]) + \"'});\")\n",
    "    graph.run(\"merge (n:Organization { name:'\" + re.sub('(\\W+)', '', rule2Tuple[i][1]) + \"'});\")\n",
    "    graph.run(\"MATCH (a:Person),(b:Organization) WHERE a.name = '\" + re.sub('(\\W+)', '', rule2Tuple[i][0]) + \"' AND b.name = '\" + re.sub('(\\W+)', '', rule2Tuple[i][1]) + \"' merge (a)-[r:work]->(b);\")"
   ]
  },
  {
   "cell_type": "code",
   "execution_count": 80,
   "metadata": {},
   "outputs": [],
   "source": [
    "# rule 3\n",
    "# rule 3 B-PER|I-PER live B-LOC|I-LOC\n",
    "rule3Key = []\n",
    "for key in dict_label.keys():\n",
    "    if 'B-PER' in dict_label[key] and 'B-LOC' in dict_label[key]:\n",
    "        rule3Key.append(key)\n",
    "\n",
    "rule3Tuple = []\n",
    "for key in rule3Key:\n",
    "    tmpORG = ''\n",
    "    tmpLoc = ''\n",
    "    for i in range(len(dict_label[key])):\n",
    "        if 'PER' in dict_label[key][i]:\n",
    "            tmpORG += dict_entity[key][i] + ' '\n",
    "        if 'LOC' in dict_label[key][i]:\n",
    "            tmpLoc += dict_entity[key][i] + ' '\n",
    "    rule3Tuple.append((tmpORG, tmpLoc))\n",
    "\n",
    "\n",
    "for i in range(len(rule3Tuple)):\n",
    "    graph.run(\"merge (n:Person { name:'\" + re.sub('(\\W+)', '', rule3Tuple[i][0]) + \"'});\")\n",
    "    graph.run(\"merge (n:Location { name:'\" + re.sub('(\\W+)', '', rule3Tuple[i][1]) + \"'});\")\n",
    "    graph.run(\"MATCH (a:Person),(b:Location) WHERE a.name = '\" + re.sub('(\\W+)', '', rule3Tuple[i][0]) + \"' AND b.name = '\" + re.sub('(\\W+)', '', rule3Tuple[i][1]) + \"' merge (a)-[r:live]->(b);\")"
   ]
  },
  {
   "cell_type": "code",
   "execution_count": 2,
   "metadata": {},
   "outputs": [
    {
     "data": {
      "text/html": [
       "(No data)"
      ],
      "text/plain": [
       "(No data)"
      ]
     },
     "execution_count": 2,
     "metadata": {},
     "output_type": "execute_result"
    }
   ],
   "source": [
    "from py2neo import *\n",
    "import re\n",
    "graph = Graph(\"http://localhost:7474\",user=\"neo4j\",password=\"12345678\",name=\"neo4j\")\n",
    "\n",
    "graph.run(\"merge (n:Person { name:'SanPedroSula'});\")\n",
    "graph.run(\"MATCH (a:Person),(b:Location) WHERE a.name = 'SanPedroSula' AND b.name = 'UnitedStates' merge (a)-[r:live]->(b);\")\n"
   ]
  },
  {
   "cell_type": "code",
   "execution_count": 5,
   "metadata": {},
   "outputs": [
    {
     "data": {
      "text/html": [
       "(No data)"
      ],
      "text/plain": [
       "(No data)"
      ]
     },
     "execution_count": 5,
     "metadata": {},
     "output_type": "execute_result"
    }
   ],
   "source": [
    "graph.run(\"merge (n:Person { name:'Ester'});\")"
   ]
  },
  {
   "cell_type": "code",
   "execution_count": 6,
   "metadata": {},
   "outputs": [
    {
     "data": {
      "text/html": [
       "(No data)"
      ],
      "text/plain": [
       "(No data)"
      ]
     },
     "execution_count": 6,
     "metadata": {},
     "output_type": "execute_result"
    }
   ],
   "source": [
    "graph.run(\"MATCH (a:Person),(b:Location) WHERE a.name = 'Ester' AND b.name = 'California' merge (a)-[r:live]->(b);\")\n"
   ]
  },
  {
   "cell_type": "code",
   "execution_count": null,
   "metadata": {},
   "outputs": [],
   "source": []
  }
 ],
 "metadata": {
  "kernelspec": {
   "display_name": "Python 3",
   "language": "python",
   "name": "python3"
  },
  "language_info": {
   "codemirror_mode": {
    "name": "ipython",
    "version": 3
   },
   "file_extension": ".py",
   "mimetype": "text/x-python",
   "name": "python",
   "nbconvert_exporter": "python",
   "pygments_lexer": "ipython3",
   "version": "3.9.6 (default, Aug  5 2022, 15:21:02) \n[Clang 14.0.0 (clang-1400.0.29.102)]"
  },
  "orig_nbformat": 4,
  "vscode": {
   "interpreter": {
    "hash": "31f2aee4e71d21fbe5cf8b01ff0e069b9275f58929596ceb00d14d90e3e16cd6"
   }
  }
 },
 "nbformat": 4,
 "nbformat_minor": 2
}
